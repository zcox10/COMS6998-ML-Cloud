{
 "cells": [
  {
   "cell_type": "code",
   "execution_count": null,
   "metadata": {},
   "outputs": [],
   "source": [
    "import pandas as pd"
   ]
  },
  {
   "cell_type": "code",
   "execution_count": null,
   "metadata": {},
   "outputs": [],
   "source": [
    "df = pd.read_csv(\"results/data/model-1-2025-03-15-17-27-07.csv\")\n",
    "df"
   ]
  },
  {
   "cell_type": "code",
   "execution_count": null,
   "metadata": {},
   "outputs": [],
   "source": [
    "df = pd.read_csv(\"results/data/model-2-2025-03-15-17-27-15.csv\")\n",
    "df"
   ]
  },
  {
   "cell_type": "code",
   "execution_count": null,
   "metadata": {},
   "outputs": [],
   "source": [
    "df = pd.read_csv(\"results/data/model-3-2025-03-15-17-33-10.csv\")\n",
    "df"
   ]
  },
  {
   "cell_type": "code",
   "execution_count": 4,
   "metadata": {},
   "outputs": [
    {
     "name": "stdout",
     "output_type": "stream",
     "text": [
      "{'python_version': '3.11.2.final.0 (64 bit)', 'cpuinfo_version': [9, 0, 0], 'cpuinfo_version_string': '9.0.0', 'arch': 'ARM_8', 'bits': 64, 'count': 11, 'arch_string_raw': 'arm64', 'brand_raw': 'Apple M3 Pro'}\n",
      "Standard simd label: SSE (128-bit)\n",
      "[]\n",
      "CPU Frequency (GHz): 4.06\n",
      "Physical Cores:     11\n",
      "SIMD Detected:      SSE (128-bit)\n",
      "FMA Supported:      False\n",
      "Approx. Peak FLOPs: 1.78e+11 FLOP/s\n"
     ]
    }
   ],
   "source": [
    "import psutil\n",
    "import cpuinfo\n",
    "\n",
    "\n",
    "def estimate_cpu_peak_flops():\n",
    "    # 1. Get CPU frequency (max) in MHz\n",
    "    freq_info = psutil.cpu_freq()\n",
    "    # freq_info.max is in MHz; convert to GHz\n",
    "    cpu_freq_ghz = freq_info.max / 1000.0 if freq_info.max else freq_info.current / 1000.0\n",
    "\n",
    "    # 2. Get the number of physical cores\n",
    "    physical_cores = psutil.cpu_count(logical=False)\n",
    "\n",
    "    # 3. Decide on a per-cycle floating point ops factor:\n",
    "    #    For SSE (128-bit) with FP32 => 4 ops/cycle per core\n",
    "    #    For AVX (256-bit) with FP32 => 8 ops/cycle per core\n",
    "    #    For AVX-512 (512-bit) with FP32 => 16 ops/cycle per core\n",
    "    #    If FMA is supported, we often double it because a fused multiply-add can handle 2 ops in one instruction.\n",
    "    #\n",
    "    #    This is a big simplification. You may look up your CPU's actual SIMD support.\n",
    "    #    We'll guess AVX2 + FMA => 8 ops/cycle * 2 = 16 ops/cycle per core\n",
    "    #    (again, approximate).\n",
    "\n",
    "    # Check for some CPU flags\n",
    "    info = cpuinfo.get_cpu_info()\n",
    "    print(info)\n",
    "    flags = info.get(\"flags\", [])\n",
    "\n",
    "    # Default to SSE\n",
    "    simd_ops_per_cycle = 4\n",
    "    simd_label = \"SSE (128-bit)\"\n",
    "    print(f\"Standard simd label: {simd_label}\")\n",
    "    print(flags)\n",
    "\n",
    "    # If AVX2\n",
    "    if \"avx2\" in flags:\n",
    "        simd_ops_per_cycle = 8\n",
    "        simd_label = \"AVX2 (256-bit)\"\n",
    "        print(f\"New simd_label: {simd_label}\")\n",
    "\n",
    "    # If AVX-512\n",
    "    if \"avx512f\" in flags:\n",
    "        simd_ops_per_cycle = 16\n",
    "        simd_label = \"AVX-512 (512-bit)\"\n",
    "        print(f\"New simd_label: {simd_label}\")\n",
    "\n",
    "    # Decide if FMA is available\n",
    "    # If we have FMA, we can roughly double the ops\n",
    "    fma_factor = 2 if \"fma\" in flags else 1\n",
    "\n",
    "    ops_per_cycle_per_core = simd_ops_per_cycle * fma_factor\n",
    "\n",
    "    # 4. Compute approximate FLOPs\n",
    "    # freq in GHz * 1e9 = cycles per second\n",
    "    # then multiply by number of ops/cycle/core * cores\n",
    "    peak_flops = cpu_freq_ghz * 1e9 * physical_cores * ops_per_cycle_per_core\n",
    "\n",
    "    return peak_flops, cpu_freq_ghz, physical_cores, simd_label, bool(\"fma\" in flags)\n",
    "\n",
    "\n",
    "if __name__ == \"__main__\":\n",
    "    peak, ghz, cores, simd_label, fma_found = estimate_cpu_peak_flops()\n",
    "    print(f\"CPU Frequency (GHz): {ghz:.2f}\")\n",
    "    print(f\"Physical Cores:     {cores}\")\n",
    "    print(f\"SIMD Detected:      {simd_label}\")\n",
    "    print(f\"FMA Supported:      {fma_found}\")\n",
    "    print(f\"Approx. Peak FLOPs: {peak:.2e} FLOP/s\")"
   ]
  },
  {
   "cell_type": "code",
   "execution_count": 1,
   "metadata": {},
   "outputs": [
    {
     "ename": "UnicodeDecodeError",
     "evalue": "'utf-8' codec can't decode byte 0xe4 in position 10: invalid continuation byte",
     "output_type": "error",
     "traceback": [
      "\u001b[31m---------------------------------------------------------------------------\u001b[39m",
      "\u001b[31mUnicodeDecodeError\u001b[39m                        Traceback (most recent call last)",
      "\u001b[36mCell\u001b[39m\u001b[36m \u001b[39m\u001b[32mIn[1]\u001b[39m\u001b[32m, line 4\u001b[39m\n\u001b[32m      1\u001b[39m \u001b[38;5;28;01mimport\u001b[39;00m\u001b[38;5;250m \u001b[39m\u001b[34;01mpandas\u001b[39;00m\u001b[38;5;250m \u001b[39m\u001b[38;5;28;01mas\u001b[39;00m\u001b[38;5;250m \u001b[39m\u001b[34;01mpd\u001b[39;00m\n\u001b[32m      3\u001b[39m \u001b[38;5;66;03m# Load Nsight Compute CSV file\u001b[39;00m\n\u001b[32m----> \u001b[39m\u001b[32m4\u001b[39m df = \u001b[43mpd\u001b[49m\u001b[43m.\u001b[49m\u001b[43mread_csv\u001b[49m\u001b[43m(\u001b[49m\u001b[33;43m\"\u001b[39;49m\u001b[33;43mprofile_output.csv\u001b[39;49m\u001b[33;43m\"\u001b[39;49m\u001b[43m)\u001b[49m\n\u001b[32m      6\u001b[39m \u001b[38;5;66;03m# Extract relevant Roofline metrics\u001b[39;00m\n\u001b[32m      7\u001b[39m roofline_metrics = df[[\n\u001b[32m      8\u001b[39m     \u001b[33m\"\u001b[39m\u001b[33mflop_count_sp.sum\u001b[39m\u001b[33m\"\u001b[39m,  \u001b[38;5;66;03m# FLOPs (single precision)\u001b[39;00m\n\u001b[32m      9\u001b[39m     \u001b[33m\"\u001b[39m\u001b[33mflop_count_dp.sum\u001b[39m\u001b[33m\"\u001b[39m,  \u001b[38;5;66;03m# FLOPs (double precision)\u001b[39;00m\n\u001b[32m   (...)\u001b[39m\u001b[32m     14\u001b[39m     \u001b[33m\"\u001b[39m\u001b[33msm__inst_executed.sum\u001b[39m\u001b[33m\"\u001b[39m  \u001b[38;5;66;03m# Instructions executed\u001b[39;00m\n\u001b[32m     15\u001b[39m ]]\n",
      "\u001b[36mFile \u001b[39m\u001b[32m~/.pyenv/versions/COMS6998-ML-Cloud-pyenv/lib/python3.11/site-packages/pandas/io/parsers/readers.py:1026\u001b[39m, in \u001b[36mread_csv\u001b[39m\u001b[34m(filepath_or_buffer, sep, delimiter, header, names, index_col, usecols, dtype, engine, converters, true_values, false_values, skipinitialspace, skiprows, skipfooter, nrows, na_values, keep_default_na, na_filter, verbose, skip_blank_lines, parse_dates, infer_datetime_format, keep_date_col, date_parser, date_format, dayfirst, cache_dates, iterator, chunksize, compression, thousands, decimal, lineterminator, quotechar, quoting, doublequote, escapechar, comment, encoding, encoding_errors, dialect, on_bad_lines, delim_whitespace, low_memory, memory_map, float_precision, storage_options, dtype_backend)\u001b[39m\n\u001b[32m   1013\u001b[39m kwds_defaults = _refine_defaults_read(\n\u001b[32m   1014\u001b[39m     dialect,\n\u001b[32m   1015\u001b[39m     delimiter,\n\u001b[32m   (...)\u001b[39m\u001b[32m   1022\u001b[39m     dtype_backend=dtype_backend,\n\u001b[32m   1023\u001b[39m )\n\u001b[32m   1024\u001b[39m kwds.update(kwds_defaults)\n\u001b[32m-> \u001b[39m\u001b[32m1026\u001b[39m \u001b[38;5;28;01mreturn\u001b[39;00m \u001b[43m_read\u001b[49m\u001b[43m(\u001b[49m\u001b[43mfilepath_or_buffer\u001b[49m\u001b[43m,\u001b[49m\u001b[43m \u001b[49m\u001b[43mkwds\u001b[49m\u001b[43m)\u001b[49m\n",
      "\u001b[36mFile \u001b[39m\u001b[32m~/.pyenv/versions/COMS6998-ML-Cloud-pyenv/lib/python3.11/site-packages/pandas/io/parsers/readers.py:620\u001b[39m, in \u001b[36m_read\u001b[39m\u001b[34m(filepath_or_buffer, kwds)\u001b[39m\n\u001b[32m    617\u001b[39m _validate_names(kwds.get(\u001b[33m\"\u001b[39m\u001b[33mnames\u001b[39m\u001b[33m\"\u001b[39m, \u001b[38;5;28;01mNone\u001b[39;00m))\n\u001b[32m    619\u001b[39m \u001b[38;5;66;03m# Create the parser.\u001b[39;00m\n\u001b[32m--> \u001b[39m\u001b[32m620\u001b[39m parser = \u001b[43mTextFileReader\u001b[49m\u001b[43m(\u001b[49m\u001b[43mfilepath_or_buffer\u001b[49m\u001b[43m,\u001b[49m\u001b[43m \u001b[49m\u001b[43m*\u001b[49m\u001b[43m*\u001b[49m\u001b[43mkwds\u001b[49m\u001b[43m)\u001b[49m\n\u001b[32m    622\u001b[39m \u001b[38;5;28;01mif\u001b[39;00m chunksize \u001b[38;5;129;01mor\u001b[39;00m iterator:\n\u001b[32m    623\u001b[39m     \u001b[38;5;28;01mreturn\u001b[39;00m parser\n",
      "\u001b[36mFile \u001b[39m\u001b[32m~/.pyenv/versions/COMS6998-ML-Cloud-pyenv/lib/python3.11/site-packages/pandas/io/parsers/readers.py:1620\u001b[39m, in \u001b[36mTextFileReader.__init__\u001b[39m\u001b[34m(self, f, engine, **kwds)\u001b[39m\n\u001b[32m   1617\u001b[39m     \u001b[38;5;28mself\u001b[39m.options[\u001b[33m\"\u001b[39m\u001b[33mhas_index_names\u001b[39m\u001b[33m\"\u001b[39m] = kwds[\u001b[33m\"\u001b[39m\u001b[33mhas_index_names\u001b[39m\u001b[33m\"\u001b[39m]\n\u001b[32m   1619\u001b[39m \u001b[38;5;28mself\u001b[39m.handles: IOHandles | \u001b[38;5;28;01mNone\u001b[39;00m = \u001b[38;5;28;01mNone\u001b[39;00m\n\u001b[32m-> \u001b[39m\u001b[32m1620\u001b[39m \u001b[38;5;28mself\u001b[39m._engine = \u001b[38;5;28;43mself\u001b[39;49m\u001b[43m.\u001b[49m\u001b[43m_make_engine\u001b[49m\u001b[43m(\u001b[49m\u001b[43mf\u001b[49m\u001b[43m,\u001b[49m\u001b[43m \u001b[49m\u001b[38;5;28;43mself\u001b[39;49m\u001b[43m.\u001b[49m\u001b[43mengine\u001b[49m\u001b[43m)\u001b[49m\n",
      "\u001b[36mFile \u001b[39m\u001b[32m~/.pyenv/versions/COMS6998-ML-Cloud-pyenv/lib/python3.11/site-packages/pandas/io/parsers/readers.py:1898\u001b[39m, in \u001b[36mTextFileReader._make_engine\u001b[39m\u001b[34m(self, f, engine)\u001b[39m\n\u001b[32m   1895\u001b[39m     \u001b[38;5;28;01mraise\u001b[39;00m \u001b[38;5;167;01mValueError\u001b[39;00m(msg)\n\u001b[32m   1897\u001b[39m \u001b[38;5;28;01mtry\u001b[39;00m:\n\u001b[32m-> \u001b[39m\u001b[32m1898\u001b[39m     \u001b[38;5;28;01mreturn\u001b[39;00m \u001b[43mmapping\u001b[49m\u001b[43m[\u001b[49m\u001b[43mengine\u001b[49m\u001b[43m]\u001b[49m\u001b[43m(\u001b[49m\u001b[43mf\u001b[49m\u001b[43m,\u001b[49m\u001b[43m \u001b[49m\u001b[43m*\u001b[49m\u001b[43m*\u001b[49m\u001b[38;5;28;43mself\u001b[39;49m\u001b[43m.\u001b[49m\u001b[43moptions\u001b[49m\u001b[43m)\u001b[49m\n\u001b[32m   1899\u001b[39m \u001b[38;5;28;01mexcept\u001b[39;00m \u001b[38;5;167;01mException\u001b[39;00m:\n\u001b[32m   1900\u001b[39m     \u001b[38;5;28;01mif\u001b[39;00m \u001b[38;5;28mself\u001b[39m.handles \u001b[38;5;129;01mis\u001b[39;00m \u001b[38;5;129;01mnot\u001b[39;00m \u001b[38;5;28;01mNone\u001b[39;00m:\n",
      "\u001b[36mFile \u001b[39m\u001b[32m~/.pyenv/versions/COMS6998-ML-Cloud-pyenv/lib/python3.11/site-packages/pandas/io/parsers/c_parser_wrapper.py:93\u001b[39m, in \u001b[36mCParserWrapper.__init__\u001b[39m\u001b[34m(self, src, **kwds)\u001b[39m\n\u001b[32m     90\u001b[39m \u001b[38;5;28;01mif\u001b[39;00m kwds[\u001b[33m\"\u001b[39m\u001b[33mdtype_backend\u001b[39m\u001b[33m\"\u001b[39m] == \u001b[33m\"\u001b[39m\u001b[33mpyarrow\u001b[39m\u001b[33m\"\u001b[39m:\n\u001b[32m     91\u001b[39m     \u001b[38;5;66;03m# Fail here loudly instead of in cython after reading\u001b[39;00m\n\u001b[32m     92\u001b[39m     import_optional_dependency(\u001b[33m\"\u001b[39m\u001b[33mpyarrow\u001b[39m\u001b[33m\"\u001b[39m)\n\u001b[32m---> \u001b[39m\u001b[32m93\u001b[39m \u001b[38;5;28mself\u001b[39m._reader = \u001b[43mparsers\u001b[49m\u001b[43m.\u001b[49m\u001b[43mTextReader\u001b[49m\u001b[43m(\u001b[49m\u001b[43msrc\u001b[49m\u001b[43m,\u001b[49m\u001b[43m \u001b[49m\u001b[43m*\u001b[49m\u001b[43m*\u001b[49m\u001b[43mkwds\u001b[49m\u001b[43m)\u001b[49m\n\u001b[32m     95\u001b[39m \u001b[38;5;28mself\u001b[39m.unnamed_cols = \u001b[38;5;28mself\u001b[39m._reader.unnamed_cols\n\u001b[32m     97\u001b[39m \u001b[38;5;66;03m# error: Cannot determine type of 'names'\u001b[39;00m\n",
      "\u001b[36mFile \u001b[39m\u001b[32mparsers.pyx:574\u001b[39m, in \u001b[36mpandas._libs.parsers.TextReader.__cinit__\u001b[39m\u001b[34m()\u001b[39m\n",
      "\u001b[36mFile \u001b[39m\u001b[32mparsers.pyx:663\u001b[39m, in \u001b[36mpandas._libs.parsers.TextReader._get_header\u001b[39m\u001b[34m()\u001b[39m\n",
      "\u001b[36mFile \u001b[39m\u001b[32mparsers.pyx:874\u001b[39m, in \u001b[36mpandas._libs.parsers.TextReader._tokenize_rows\u001b[39m\u001b[34m()\u001b[39m\n",
      "\u001b[36mFile \u001b[39m\u001b[32mparsers.pyx:891\u001b[39m, in \u001b[36mpandas._libs.parsers.TextReader._check_tokenize_status\u001b[39m\u001b[34m()\u001b[39m\n",
      "\u001b[36mFile \u001b[39m\u001b[32mparsers.pyx:2053\u001b[39m, in \u001b[36mpandas._libs.parsers.raise_parser_error\u001b[39m\u001b[34m()\u001b[39m\n",
      "\u001b[31mUnicodeDecodeError\u001b[39m: 'utf-8' codec can't decode byte 0xe4 in position 10: invalid continuation byte"
     ]
    }
   ],
   "source": [
    "import pandas as pd\n",
    "\n",
    "# Load Nsight Compute CSV file\n",
    "df = pd.read_csv(\"profile_output.csv\")\n",
    "\n",
    "# Extract relevant Roofline metrics\n",
    "roofline_metrics = df[[\n",
    "    \"flop_count_sp.sum\",  # FLOPs (single precision)\n",
    "    \"flop_count_dp.sum\",  # FLOPs (double precision)\n",
    "    \"dram__bytes.sum\",    # Memory bandwidth\n",
    "    \"lts__t_bytes.sum\",   # L2 Cache Transactions\n",
    "    \"l1tex__t_bytes.sum\", # L1 Cache Transactions\n",
    "    \"sm__cycles_active.avg\", # Active SM cycles\n",
    "    \"sm__inst_executed.sum\"  # Instructions executed\n",
    "]]\n",
    "\n",
    "# Compute Operational Intensity (FLOP/Byte)\n",
    "roofline_metrics[\"Operational_Intensity\"] = (\n",
    "    roofline_metrics[\"flop_count_sp.sum\"] / roofline_metrics[\"dram__bytes.sum\"]\n",
    ")\n",
    "\n",
    "# Display the dataframe\n",
    "import ace_tools as tools\n",
    "tools.display_dataframe_to_user(name=\"Roofline Metrics\", dataframe=roofline_metrics)\n"
   ]
  },
  {
   "cell_type": "code",
   "execution_count": null,
   "metadata": {},
   "outputs": [],
   "source": []
  }
 ],
 "metadata": {
  "kernelspec": {
   "display_name": "COMS6998-ML-Cloud-pyenv",
   "language": "python",
   "name": "python3"
  },
  "language_info": {
   "codemirror_mode": {
    "name": "ipython",
    "version": 3
   },
   "file_extension": ".py",
   "mimetype": "text/x-python",
   "name": "python",
   "nbconvert_exporter": "python",
   "pygments_lexer": "ipython3",
   "version": "3.11.2"
  }
 },
 "nbformat": 4,
 "nbformat_minor": 2
}
