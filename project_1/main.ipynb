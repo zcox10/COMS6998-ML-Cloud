{
 "cells": [
  {
   "cell_type": "code",
   "execution_count": 2,
   "metadata": {},
   "outputs": [],
   "source": [
    "import pandas as pd"
   ]
  },
  {
   "cell_type": "code",
   "execution_count": 9,
   "metadata": {},
   "outputs": [
    {
     "data": {
      "text/html": [
       "<div>\n",
       "<style scoped>\n",
       "    .dataframe tbody tr th:only-of-type {\n",
       "        vertical-align: middle;\n",
       "    }\n",
       "\n",
       "    .dataframe tbody tr th {\n",
       "        vertical-align: top;\n",
       "    }\n",
       "\n",
       "    .dataframe thead th {\n",
       "        text-align: right;\n",
       "    }\n",
       "</style>\n",
       "<table border=\"1\" class=\"dataframe\">\n",
       "  <thead>\n",
       "    <tr style=\"text-align: right;\">\n",
       "      <th></th>\n",
       "      <th>model</th>\n",
       "      <th>trainable_parameters</th>\n",
       "      <th>device</th>\n",
       "      <th>gpu</th>\n",
       "      <th>total_gflops</th>\n",
       "      <th>total_gb</th>\n",
       "      <th>gflops_per_sec</th>\n",
       "      <th>mem_bandwidth_gb_s</th>\n",
       "      <th>operational_intensity</th>\n",
       "      <th>peak_flops_gb</th>\n",
       "      <th>peak_mem_bw_gb_s</th>\n",
       "      <th>samples_per_sec</th>\n",
       "    </tr>\n",
       "  </thead>\n",
       "  <tbody>\n",
       "    <tr>\n",
       "      <th>0</th>\n",
       "      <td>ModelOne</td>\n",
       "      <td>12196</td>\n",
       "      <td>cpu</td>\n",
       "      <td>NaN</td>\n",
       "      <td>0.002304</td>\n",
       "      <td>0.000033</td>\n",
       "      <td>2.440569</td>\n",
       "      <td>0.00356</td>\n",
       "      <td>70.3125</td>\n",
       "      <td>89.232</td>\n",
       "      <td>8.0307</td>\n",
       "      <td>1343.6</td>\n",
       "    </tr>\n",
       "  </tbody>\n",
       "</table>\n",
       "</div>"
      ],
      "text/plain": [
       "      model  trainable_parameters device  gpu  total_gflops  total_gb  \\\n",
       "0  ModelOne                 12196    cpu  NaN      0.002304  0.000033   \n",
       "\n",
       "   gflops_per_sec  mem_bandwidth_gb_s  operational_intensity  peak_flops_gb  \\\n",
       "0        2.440569             0.00356                70.3125         89.232   \n",
       "\n",
       "   peak_mem_bw_gb_s  samples_per_sec  \n",
       "0            8.0307           1343.6  "
      ]
     },
     "execution_count": 9,
     "metadata": {},
     "output_type": "execute_result"
    }
   ],
   "source": [
    "df = pd.read_csv(\"results/data/model-1-2025-03-15-17-27-07.csv\")\n",
    "df"
   ]
  },
  {
   "cell_type": "code",
   "execution_count": 11,
   "metadata": {},
   "outputs": [
    {
     "data": {
      "text/html": [
       "<div>\n",
       "<style scoped>\n",
       "    .dataframe tbody tr th:only-of-type {\n",
       "        vertical-align: middle;\n",
       "    }\n",
       "\n",
       "    .dataframe tbody tr th {\n",
       "        vertical-align: top;\n",
       "    }\n",
       "\n",
       "    .dataframe thead th {\n",
       "        text-align: right;\n",
       "    }\n",
       "</style>\n",
       "<table border=\"1\" class=\"dataframe\">\n",
       "  <thead>\n",
       "    <tr style=\"text-align: right;\">\n",
       "      <th></th>\n",
       "      <th>model</th>\n",
       "      <th>trainable_parameters</th>\n",
       "      <th>device</th>\n",
       "      <th>gpu</th>\n",
       "      <th>total_gflops</th>\n",
       "      <th>total_gb</th>\n",
       "      <th>gflops_per_sec</th>\n",
       "      <th>mem_bandwidth_gb_s</th>\n",
       "      <th>operational_intensity</th>\n",
       "      <th>peak_flops_gb</th>\n",
       "      <th>peak_mem_bw_gb_s</th>\n",
       "      <th>samples_per_sec</th>\n",
       "    </tr>\n",
       "  </thead>\n",
       "  <tbody>\n",
       "    <tr>\n",
       "      <th>0</th>\n",
       "      <td>ModelTwo</td>\n",
       "      <td>2192132</td>\n",
       "      <td>cpu</td>\n",
       "      <td>NaN</td>\n",
       "      <td>5.55339</td>\n",
       "      <td>0.000016</td>\n",
       "      <td>114.713283</td>\n",
       "      <td>0.000008</td>\n",
       "      <td>338952.0</td>\n",
       "      <td>89.232</td>\n",
       "      <td>8.1493</td>\n",
       "      <td>15.67</td>\n",
       "    </tr>\n",
       "  </tbody>\n",
       "</table>\n",
       "</div>"
      ],
      "text/plain": [
       "      model  trainable_parameters device  gpu  total_gflops  total_gb  \\\n",
       "0  ModelTwo               2192132    cpu  NaN       5.55339  0.000016   \n",
       "\n",
       "   gflops_per_sec  mem_bandwidth_gb_s  operational_intensity  peak_flops_gb  \\\n",
       "0      114.713283            0.000008               338952.0         89.232   \n",
       "\n",
       "   peak_mem_bw_gb_s  samples_per_sec  \n",
       "0            8.1493            15.67  "
      ]
     },
     "execution_count": 11,
     "metadata": {},
     "output_type": "execute_result"
    }
   ],
   "source": [
    "df = pd.read_csv(\"results/data/model-2-2025-03-15-17-27-15.csv\")\n",
    "df"
   ]
  },
  {
   "cell_type": "code",
   "execution_count": 12,
   "metadata": {},
   "outputs": [
    {
     "data": {
      "text/html": [
       "<div>\n",
       "<style scoped>\n",
       "    .dataframe tbody tr th:only-of-type {\n",
       "        vertical-align: middle;\n",
       "    }\n",
       "\n",
       "    .dataframe tbody tr th {\n",
       "        vertical-align: top;\n",
       "    }\n",
       "\n",
       "    .dataframe thead th {\n",
       "        text-align: right;\n",
       "    }\n",
       "</style>\n",
       "<table border=\"1\" class=\"dataframe\">\n",
       "  <thead>\n",
       "    <tr style=\"text-align: right;\">\n",
       "      <th></th>\n",
       "      <th>model</th>\n",
       "      <th>trainable_parameters</th>\n",
       "      <th>device</th>\n",
       "      <th>gpu</th>\n",
       "      <th>total_gflops</th>\n",
       "      <th>total_gb</th>\n",
       "      <th>gflops_per_sec</th>\n",
       "      <th>mem_bandwidth_gb_s</th>\n",
       "      <th>operational_intensity</th>\n",
       "      <th>peak_flops_gb</th>\n",
       "      <th>peak_mem_bw_gb_s</th>\n",
       "      <th>samples_per_sec</th>\n",
       "    </tr>\n",
       "  </thead>\n",
       "  <tbody>\n",
       "    <tr>\n",
       "      <th>0</th>\n",
       "      <td>ModelThree</td>\n",
       "      <td>228652</td>\n",
       "      <td>cpu</td>\n",
       "      <td>NaN</td>\n",
       "      <td>8.006296</td>\n",
       "      <td>0.000016</td>\n",
       "      <td>112.225596</td>\n",
       "      <td>0.000003</td>\n",
       "      <td>488665.5</td>\n",
       "      <td>89.232</td>\n",
       "      <td>8.4316</td>\n",
       "      <td>5.56</td>\n",
       "    </tr>\n",
       "  </tbody>\n",
       "</table>\n",
       "</div>"
      ],
      "text/plain": [
       "        model  trainable_parameters device  gpu  total_gflops  total_gb  \\\n",
       "0  ModelThree                228652    cpu  NaN      8.006296  0.000016   \n",
       "\n",
       "   gflops_per_sec  mem_bandwidth_gb_s  operational_intensity  peak_flops_gb  \\\n",
       "0      112.225596            0.000003               488665.5         89.232   \n",
       "\n",
       "   peak_mem_bw_gb_s  samples_per_sec  \n",
       "0            8.4316             5.56  "
      ]
     },
     "execution_count": 12,
     "metadata": {},
     "output_type": "execute_result"
    }
   ],
   "source": [
    "df = pd.read_csv(\"results/data/model-3-2025-03-15-17-33-10.csv\")\n",
    "df"
   ]
  },
  {
   "cell_type": "code",
   "execution_count": null,
   "metadata": {},
   "outputs": [],
   "source": []
  }
 ],
 "metadata": {
  "kernelspec": {
   "display_name": "ml_cloud",
   "language": "python",
   "name": "python3"
  },
  "language_info": {
   "codemirror_mode": {
    "name": "ipython",
    "version": 3
   },
   "file_extension": ".py",
   "mimetype": "text/x-python",
   "name": "python",
   "nbconvert_exporter": "python",
   "pygments_lexer": "ipython3",
   "version": "3.11.2"
  }
 },
 "nbformat": 4,
 "nbformat_minor": 2
}
