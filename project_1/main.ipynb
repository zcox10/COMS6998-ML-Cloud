{
 "cells": [
  {
   "cell_type": "code",
   "execution_count": null,
   "metadata": {},
   "outputs": [],
   "source": [
    "import pandas as pd"
   ]
  },
  {
   "cell_type": "code",
   "execution_count": null,
   "metadata": {},
   "outputs": [],
   "source": [
    "df = pd.read_csv(\"results/data/model-1-2025-03-15-17-27-07.csv\")\n",
    "df"
   ]
  },
  {
   "cell_type": "code",
   "execution_count": null,
   "metadata": {},
   "outputs": [],
   "source": [
    "df = pd.read_csv(\"results/data/model-2-2025-03-15-17-27-15.csv\")\n",
    "df"
   ]
  },
  {
   "cell_type": "code",
   "execution_count": null,
   "metadata": {},
   "outputs": [],
   "source": [
    "df = pd.read_csv(\"results/data/model-3-2025-03-15-17-33-10.csv\")\n",
    "df"
   ]
  },
  {
   "cell_type": "code",
   "execution_count": 4,
   "metadata": {},
   "outputs": [
    {
     "name": "stdout",
     "output_type": "stream",
     "text": [
      "{'python_version': '3.11.2.final.0 (64 bit)', 'cpuinfo_version': [9, 0, 0], 'cpuinfo_version_string': '9.0.0', 'arch': 'ARM_8', 'bits': 64, 'count': 11, 'arch_string_raw': 'arm64', 'brand_raw': 'Apple M3 Pro'}\n",
      "Standard simd label: SSE (128-bit)\n",
      "[]\n",
      "CPU Frequency (GHz): 4.06\n",
      "Physical Cores:     11\n",
      "SIMD Detected:      SSE (128-bit)\n",
      "FMA Supported:      False\n",
      "Approx. Peak FLOPs: 1.78e+11 FLOP/s\n"
     ]
    }
   ],
   "source": [
    "import psutil\n",
    "import cpuinfo\n",
    "\n",
    "\n",
    "def estimate_cpu_peak_flops():\n",
    "    # 1. Get CPU frequency (max) in MHz\n",
    "    freq_info = psutil.cpu_freq()\n",
    "    # freq_info.max is in MHz; convert to GHz\n",
    "    cpu_freq_ghz = freq_info.max / 1000.0 if freq_info.max else freq_info.current / 1000.0\n",
    "\n",
    "    # 2. Get the number of physical cores\n",
    "    physical_cores = psutil.cpu_count(logical=False)\n",
    "\n",
    "    # 3. Decide on a per-cycle floating point ops factor:\n",
    "    #    For SSE (128-bit) with FP32 => 4 ops/cycle per core\n",
    "    #    For AVX (256-bit) with FP32 => 8 ops/cycle per core\n",
    "    #    For AVX-512 (512-bit) with FP32 => 16 ops/cycle per core\n",
    "    #    If FMA is supported, we often double it because a fused multiply-add can handle 2 ops in one instruction.\n",
    "    #\n",
    "    #    This is a big simplification. You may look up your CPU's actual SIMD support.\n",
    "    #    We'll guess AVX2 + FMA => 8 ops/cycle * 2 = 16 ops/cycle per core\n",
    "    #    (again, approximate).\n",
    "\n",
    "    # Check for some CPU flags\n",
    "    info = cpuinfo.get_cpu_info()\n",
    "    print(info)\n",
    "    flags = info.get(\"flags\", [])\n",
    "\n",
    "    # Default to SSE\n",
    "    simd_ops_per_cycle = 4\n",
    "    simd_label = \"SSE (128-bit)\"\n",
    "    print(f\"Standard simd label: {simd_label}\")\n",
    "    print(flags)\n",
    "\n",
    "    # If AVX2\n",
    "    if \"avx2\" in flags:\n",
    "        simd_ops_per_cycle = 8\n",
    "        simd_label = \"AVX2 (256-bit)\"\n",
    "        print(f\"New simd_label: {simd_label}\")\n",
    "\n",
    "    # If AVX-512\n",
    "    if \"avx512f\" in flags:\n",
    "        simd_ops_per_cycle = 16\n",
    "        simd_label = \"AVX-512 (512-bit)\"\n",
    "        print(f\"New simd_label: {simd_label}\")\n",
    "\n",
    "    # Decide if FMA is available\n",
    "    # If we have FMA, we can roughly double the ops\n",
    "    fma_factor = 2 if \"fma\" in flags else 1\n",
    "\n",
    "    ops_per_cycle_per_core = simd_ops_per_cycle * fma_factor\n",
    "\n",
    "    # 4. Compute approximate FLOPs\n",
    "    # freq in GHz * 1e9 = cycles per second\n",
    "    # then multiply by number of ops/cycle/core * cores\n",
    "    peak_flops = cpu_freq_ghz * 1e9 * physical_cores * ops_per_cycle_per_core\n",
    "\n",
    "    return peak_flops, cpu_freq_ghz, physical_cores, simd_label, bool(\"fma\" in flags)\n",
    "\n",
    "\n",
    "if __name__ == \"__main__\":\n",
    "    peak, ghz, cores, simd_label, fma_found = estimate_cpu_peak_flops()\n",
    "    print(f\"CPU Frequency (GHz): {ghz:.2f}\")\n",
    "    print(f\"Physical Cores:     {cores}\")\n",
    "    print(f\"SIMD Detected:      {simd_label}\")\n",
    "    print(f\"FMA Supported:      {fma_found}\")\n",
    "    print(f\"Approx. Peak FLOPs: {peak:.2e} FLOP/s\")"
   ]
  },
  {
   "cell_type": "code",
   "execution_count": null,
   "metadata": {},
   "outputs": [],
   "source": []
  }
 ],
 "metadata": {
  "kernelspec": {
   "display_name": "ml_cloud",
   "language": "python",
   "name": "python3"
  },
  "language_info": {
   "codemirror_mode": {
    "name": "ipython",
    "version": 3
   },
   "file_extension": ".py",
   "mimetype": "text/x-python",
   "name": "python",
   "nbconvert_exporter": "python",
   "pygments_lexer": "ipython3",
   "version": "3.11.2"
  }
 },
 "nbformat": 4,
 "nbformat_minor": 2
}
